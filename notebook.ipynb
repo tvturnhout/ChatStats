{
 "cells": [
  {
   "cell_type": "markdown",
   "metadata": {},
   "source": [
    "# fb-analysis\n",
    "\n",
    "_Conor O'Riordan_\n",
    "_Dec 2016_\n",
    "\n",
    "[github.com/conor-or/fb-analysis](github.com/conor-or/fb-analysis)\n",
    "\n",
    "___\n",
    "\n",
    "You can use the `groupchat` and its features interactively in this notebook. Just run the code below once you've already parsed the messages (i.e. you have a `group_chat.pkl` file in `./input`.\n",
    "___"
   ]
  },
  {
   "cell_type": "code",
   "execution_count": 1,
   "metadata": {
    "collapsed": false
   },
   "outputs": [
    {
     "name": "stdout",
     "output_type": "stream",
     "text": [
      "File found, loading messages...\n"
     ]
    }
   ],
   "source": [
    "from main import messages_load\n",
    "groupchat = messages_load()"
   ]
  },
  {
   "cell_type": "code",
   "execution_count": null,
   "metadata": {
    "collapsed": true
   },
   "outputs": [],
   "source": []
  }
 ],
 "metadata": {
  "kernelspec": {
   "display_name": "Python 2",
   "language": "python",
   "name": "python2"
  },
  "language_info": {
   "codemirror_mode": {
    "name": "ipython",
    "version": 2
   },
   "file_extension": ".py",
   "mimetype": "text/x-python",
   "name": "python",
   "nbconvert_exporter": "python",
   "pygments_lexer": "ipython2",
   "version": "2.7.13"
  }
 },
 "nbformat": 4,
 "nbformat_minor": 0
}
